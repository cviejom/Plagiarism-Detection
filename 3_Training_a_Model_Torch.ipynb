{
 "cells": [
  {
   "cell_type": "markdown",
   "metadata": {},
   "source": [
    "# Plagiarism Detection Model\n",
    "\n",
    "Now that you've created training and test data, you are ready to define and train a model. Your goal in this notebook, will be to train a binary classification model that learns to label an answer file as either plagiarized or not, based on the features you provide the model.\n",
    "\n",
    "This task will be broken down into a few discrete steps:\n",
    "\n",
    "* Upload your data to S3.\n",
    "* Define a binary classification model and a training script.\n",
    "* Train your model and deploy it.\n",
    "* Evaluate your deployed classifier and answer some questions about your approach.\n",
    "\n",
    "To complete this notebook, you'll have to complete all given exercises and answer all the questions in this notebook.\n",
    "> All your tasks will be clearly labeled **EXERCISE** and questions as **QUESTION**.\n",
    "\n",
    "It will be up to you to explore different classification models and decide on a model that gives you the best performance for this dataset.\n",
    "\n",
    "---"
   ]
  },
  {
   "cell_type": "markdown",
   "metadata": {},
   "source": [
    "## Load Data to S3\n",
    "\n",
    "In the last notebook, you should have created two files: a `training.csv` and `test.csv` file with the features and class labels for the given corpus of plagiarized/non-plagiarized text data. \n",
    "\n",
    ">The below cells load in some AWS SageMaker libraries and creates a default bucket. After creating this bucket, you can upload your locally stored data to S3.\n",
    "\n",
    "Save your train and test `.csv` feature files, locally. To do this you can run the second notebook \"2_Plagiarism_Feature_Engineering\" in SageMaker or you can manually upload your files to this notebook using the upload icon in Jupyter Lab. Then you can upload local files to S3 by using `sagemaker_session.upload_data` and pointing directly to where the training data is saved."
   ]
  },
  {
   "cell_type": "code",
   "execution_count": 1,
   "metadata": {
    "collapsed": true
   },
   "outputs": [],
   "source": [
    "import pandas as pd\n",
    "import boto3\n",
    "import sagemaker"
   ]
  },
  {
   "cell_type": "code",
   "execution_count": 2,
   "metadata": {
    "collapsed": true
   },
   "outputs": [],
   "source": [
    "\"\"\"\n",
    "DON'T MODIFY ANYTHING IN THIS CELL THAT IS BELOW THIS LINE\n",
    "\"\"\"\n",
    "# session and role\n",
    "sagemaker_session = sagemaker.Session()\n",
    "role = sagemaker.get_execution_role()\n",
    "\n",
    "# create an S3 bucket\n",
    "bucket = sagemaker_session.default_bucket()"
   ]
  },
  {
   "cell_type": "markdown",
   "metadata": {},
   "source": [
    "## EXERCISE: Upload your training data to S3\n",
    "\n",
    "Specify the `data_dir` where you've saved your `train.csv` file. Decide on a descriptive `prefix` that defines where your data will be uploaded in the default S3 bucket. Finally, create a pointer to your training data by calling `sagemaker_session.upload_data` and passing in the required parameters. It may help to look at the [Session documentation](https://sagemaker.readthedocs.io/en/stable/session.html#sagemaker.session.Session.upload_data) or previous SageMaker code examples.\n",
    "\n",
    "You are expected to upload your entire directory. Later, the training script will only access the `train.csv` file."
   ]
  },
  {
   "cell_type": "code",
   "execution_count": 3,
   "metadata": {
    "collapsed": true
   },
   "outputs": [],
   "source": [
    "# should be the name of directory you created to save your features data\n",
    "data_dir = './plagiarism_data'\n",
    "\n",
    "# set prefix, a descriptive name for a directory  \n",
    "prefix = 'sagemaker/plagiarism_classifier'\n",
    "\n",
    "# upload all data to S3\n",
    "input_data = sagemaker_session.upload_data(path=data_dir, bucket=bucket, key_prefix=prefix)"
   ]
  },
  {
   "cell_type": "code",
   "execution_count": 4,
   "metadata": {},
   "outputs": [
    {
     "name": "stdout",
     "output_type": "stream",
     "text": [
      "s3://sagemaker-us-east-2-698530086280/sagemaker/plagiarism_classifier\n"
     ]
    }
   ],
   "source": [
    "print(input_data)"
   ]
  },
  {
   "cell_type": "markdown",
   "metadata": {},
   "source": [
    "### Test cell\n",
    "\n",
    "Test that your data has been successfully uploaded. The below cell prints out the items in your S3 bucket and will throw an error if it is empty. You should see the contents of your `data_dir` and perhaps some checkpoints. If you see any other files listed, then you may have some old model files that you can delete via the S3 console (though, additional files shouldn't affect the performance of model developed in this notebook)."
   ]
  },
  {
   "cell_type": "code",
   "execution_count": 5,
   "metadata": {
    "collapsed": true
   },
   "outputs": [
    {
     "name": "stdout",
     "output_type": "stream",
     "text": [
      "/sagemaker/moon-data/sagemaker-pytorch-2019-06-23-19-14-17-236/output/model.tar.gz\n",
      "creditcard/linear-learner-2019-06-23-00-21-42-182/output/model.tar.gz\n",
      "creditcard/linear-learner-2019-06-23-01-13-53-053/output/model.tar.gz\n",
      "creditcard/linear-learner-2019-06-23-01-29-01-797/output/model.tar.gz\n",
      "sagemaker-pytorch-2019-06-22-03-14-30-732/source/sourcedir.tar.gz\n",
      "sagemaker-pytorch-2019-06-22-03-21-14-761/source/sourcedir.tar.gz\n",
      "sagemaker-pytorch-2019-06-22-03-22-21-929/output/model.tar.gz\n",
      "sagemaker-pytorch-2019-06-22-03-22-21-929/source/sourcedir.tar.gz\n",
      "sagemaker-pytorch-2019-06-22-15-13-19-736/output/model.tar.gz\n",
      "sagemaker-pytorch-2019-06-22-15-13-19-736/source/sourcedir.tar.gz\n",
      "sagemaker-pytorch-2019-06-22-15-55-27-093/output/model.tar.gz\n",
      "sagemaker-pytorch-2019-06-22-15-55-27-093/source/sourcedir.tar.gz\n",
      "sagemaker-pytorch-2019-06-22-17-49-46-213/sourcedir.tar.gz\n",
      "sagemaker-pytorch-2019-06-23-19-14-17-236/source/sourcedir.tar.gz\n",
      "sagemaker-pytorch-2019-06-23-19-39-55-569/sourcedir.tar.gz\n",
      "sagemaker-pytorch-2019-06-23-20-03-34-338/sourcedir.tar.gz\n",
      "sagemaker-pytorch-2019-06-30-04-47-52-280/source/sourcedir.tar.gz\n",
      "sagemaker-pytorch-2019-06-30-04-52-54-536/source/sourcedir.tar.gz\n",
      "sagemaker-pytorch-2019-06-30-05-00-17-670/source/sourcedir.tar.gz\n",
      "sagemaker-pytorch-2019-06-30-05-07-09-810/source/sourcedir.tar.gz\n",
      "sagemaker-pytorch-2019-06-30-05-11-38-853/source/sourcedir.tar.gz\n",
      "sagemaker-pytorch-2019-06-30-05-18-26-957/source/sourcedir.tar.gz\n",
      "sagemaker-pytorch-2019-06-30-05-23-50-408/source/sourcedir.tar.gz\n",
      "sagemaker-record-sets/LinearLearner-2019-06-23-00-21-21-012/.amazon.manifest\n",
      "sagemaker-record-sets/LinearLearner-2019-06-23-00-21-21-012/matrix_0.pbr\n",
      "sagemaker-record-sets/LinearLearner-2019-06-23-01-13-44-173/.amazon.manifest\n",
      "sagemaker-record-sets/LinearLearner-2019-06-23-01-13-44-173/matrix_0.pbr\n",
      "sagemaker-record-sets/LinearLearner-2019-06-30-02-51-00-506/.amazon.manifest\n",
      "sagemaker-record-sets/LinearLearner-2019-06-30-02-51-00-506/matrix_0.pbr\n",
      "sagemaker-record-sets/LinearLearner-2019-06-30-02-57-13-637/.amazon.manifest\n",
      "sagemaker-record-sets/LinearLearner-2019-06-30-02-57-13-637/matrix_0.pbr\n",
      "sagemaker-record-sets/LinearLearner-2019-06-30-02-58-04-512/.amazon.manifest\n",
      "sagemaker-record-sets/LinearLearner-2019-06-30-02-58-04-512/matrix_0.pbr\n",
      "sagemaker-record-sets/LinearLearner-2019-06-30-02-58-18-948/.amazon.manifest\n",
      "sagemaker-record-sets/LinearLearner-2019-06-30-02-58-18-948/matrix_0.pbr\n",
      "sagemaker-record-sets/LinearLearner-2019-06-30-02-59-17-537/.amazon.manifest\n",
      "sagemaker-record-sets/LinearLearner-2019-06-30-02-59-17-537/matrix_0.pbr\n",
      "sagemaker-record-sets/LinearLearner-2019-06-30-03-00-32-714/.amazon.manifest\n",
      "sagemaker-record-sets/LinearLearner-2019-06-30-03-00-32-714/matrix_0.pbr\n",
      "sagemaker-record-sets/LinearLearner-2019-06-30-03-00-52-988/.amazon.manifest\n",
      "sagemaker-record-sets/LinearLearner-2019-06-30-03-00-52-988/matrix_0.pbr\n",
      "sagemaker-record-sets/LinearLearner-2019-06-30-03-00-57-208/.amazon.manifest\n",
      "sagemaker-record-sets/LinearLearner-2019-06-30-03-00-57-208/matrix_0.pbr\n",
      "sagemaker-record-sets/LinearLearner-2019-06-30-03-01-05-261/.amazon.manifest\n",
      "sagemaker-record-sets/LinearLearner-2019-06-30-03-01-05-261/matrix_0.pbr\n",
      "sagemaker-record-sets/LinearLearner-2019-06-30-03-01-10-167/.amazon.manifest\n",
      "sagemaker-record-sets/LinearLearner-2019-06-30-03-01-10-167/matrix_0.pbr\n",
      "sagemaker-record-sets/LinearLearner-2019-06-30-03-06-00-521/.amazon.manifest\n",
      "sagemaker-record-sets/LinearLearner-2019-06-30-03-06-00-521/matrix_0.pbr\n",
      "sagemaker-record-sets/LinearLearner-2019-06-30-03-25-19-213/.amazon.manifest\n",
      "sagemaker-record-sets/LinearLearner-2019-06-30-03-25-19-213/matrix_0.pbr\n",
      "sagemaker-record-sets/LinearLearner-2019-06-30-03-25-19-361/.amazon.manifest\n",
      "sagemaker-record-sets/LinearLearner-2019-06-30-03-25-19-361/matrix_0.pbr\n",
      "sagemaker/moon-data/train.csv\n",
      "sagemaker/plagiarism_classifier/.ipynb_checkpoints/train-checkpoint.csv\n",
      "sagemaker/plagiarism_classifier/model/linear-learner-2019-06-30-03-06-02-424/output/model.tar.gz\n",
      "sagemaker/plagiarism_classifier/test.csv\n",
      "sagemaker/plagiarism_classifier/train.csv\n",
      "sagemaker/sentiment_rnn/train.csv\n",
      "sagemaker/sentiment_rnn/word_dict.pkl\n",
      "Test passed!\n"
     ]
    }
   ],
   "source": [
    "\"\"\"\n",
    "DON'T MODIFY ANYTHING IN THIS CELL THAT IS BELOW THIS LINE\n",
    "\"\"\"\n",
    "# confirm that data is in S3 bucket\n",
    "empty_check = []\n",
    "for obj in boto3.resource('s3').Bucket(bucket).objects.all():\n",
    "    empty_check.append(obj.key)\n",
    "    print(obj.key)\n",
    "\n",
    "assert len(empty_check) !=0, 'S3 bucket is empty.'\n",
    "print('Test passed!')"
   ]
  },
  {
   "cell_type": "markdown",
   "metadata": {},
   "source": [
    "---\n",
    "\n",
    "# Modeling\n",
    "\n",
    "Now that you've uploaded your training data, it's time to define and train a model!\n",
    "\n",
    "The type of model you create is up to you. For a binary classification task, you can choose to go one of three routes:\n",
    "* Use a built-in classification algorithm, like LinearLearner.\n",
    "* Define a custom Scikit-learn classifier, a comparison of models can be found [here](https://scikit-learn.org/stable/auto_examples/classification/plot_classifier_comparison.html).\n",
    "* Define a custom PyTorch neural network classifier. \n",
    "\n",
    "It will be up to you to test out a variety of models and choose the best one. Your project will be graded on the accuracy of your final model. \n",
    " \n",
    "---\n",
    "\n",
    "## EXERCISE: Complete a training script \n",
    "\n",
    "To implement a custom classifier, you'll need to complete a `train.py` script. You've been given the folders `source_sklearn` and `source_pytorch` which hold starting code for a custom Scikit-learn model and a PyTorch model, respectively. Each directory has a `train.py` training script. To complete this project **you only need to complete one of these scripts**; the script that is responsible for training your final model.\n",
    "\n",
    "A typical training script:\n",
    "* Loads training data from a specified directory\n",
    "* Parses any training & model hyperparameters (ex. nodes in a neural network, training epochs, etc.)\n",
    "* Instantiates a model of your design, with any specified hyperparams\n",
    "* Trains that model \n",
    "* Finally, saves the model so that it can be hosted/deployed, later\n",
    "\n",
    "### Defining and training a model\n",
    "Much of the training script code is provided for you. Almost all of your work will be done in the `if __name__ == '__main__':` section. To complete a `train.py` file, you will:\n",
    "1. Import any extra libraries you need\n",
    "2. Define any additional model training hyperparameters using `parser.add_argument`\n",
    "2. Define a model in the `if __name__ == '__main__':` section\n",
    "3. Train the model in that same section\n",
    "\n",
    "Below, you can use `!pygmentize` to display an existing `train.py` file. Read through the code; all of your tasks are marked with `TODO` comments. \n",
    "\n",
    "**Note: If you choose to create a custom PyTorch model, you will be responsible for defining the model in the `model.py` file,** and a `predict.py` file is provided. If you choose to use Scikit-learn, you only need a `train.py` file; you may import a classifier from the `sklearn` library."
   ]
  },
  {
   "cell_type": "code",
   "execution_count": 6,
   "metadata": {
    "collapsed": true
   },
   "outputs": [
    {
     "name": "stdout",
     "output_type": "stream",
     "text": [
      "\u001b[34mfrom\u001b[39;49;00m \u001b[04m\u001b[36m__future__\u001b[39;49;00m \u001b[34mimport\u001b[39;49;00m print_function\n",
      "\n",
      "\u001b[34mimport\u001b[39;49;00m \u001b[04m\u001b[36margparse\u001b[39;49;00m\n",
      "\u001b[34mimport\u001b[39;49;00m \u001b[04m\u001b[36mos\u001b[39;49;00m\n",
      "\u001b[34mimport\u001b[39;49;00m \u001b[04m\u001b[36mpandas\u001b[39;49;00m \u001b[34mas\u001b[39;49;00m \u001b[04m\u001b[36mpd\u001b[39;49;00m\n",
      "\n",
      "\u001b[34mfrom\u001b[39;49;00m \u001b[04m\u001b[36msklearn.externals\u001b[39;49;00m \u001b[34mimport\u001b[39;49;00m joblib\n",
      "\n",
      "\u001b[37m## TODO: Import any additional libraries you need to define a model\u001b[39;49;00m\n",
      "\n",
      "\n",
      "\u001b[37m# Provided model load function\u001b[39;49;00m\n",
      "\u001b[34mdef\u001b[39;49;00m \u001b[32mmodel_fn\u001b[39;49;00m(model_dir):\n",
      "    \u001b[33m\"\"\"Load model from the model_dir. This is the same model that is saved\u001b[39;49;00m\n",
      "\u001b[33m    in the main if statement.\u001b[39;49;00m\n",
      "\u001b[33m    \"\"\"\u001b[39;49;00m\n",
      "    \u001b[34mprint\u001b[39;49;00m(\u001b[33m\"\u001b[39;49;00m\u001b[33mLoading model.\u001b[39;49;00m\u001b[33m\"\u001b[39;49;00m)\n",
      "    \n",
      "    \u001b[37m# load using joblib\u001b[39;49;00m\n",
      "    model = joblib.load(os.path.join(model_dir, \u001b[33m\"\u001b[39;49;00m\u001b[33mmodel.joblib\u001b[39;49;00m\u001b[33m\"\u001b[39;49;00m))\n",
      "    \u001b[34mprint\u001b[39;49;00m(\u001b[33m\"\u001b[39;49;00m\u001b[33mDone loading model.\u001b[39;49;00m\u001b[33m\"\u001b[39;49;00m)\n",
      "    \n",
      "    \u001b[34mreturn\u001b[39;49;00m model\n",
      "\n",
      "\n",
      "\u001b[37m## TODO: Complete the main code\u001b[39;49;00m\n",
      "\u001b[34mif\u001b[39;49;00m \u001b[31m__name__\u001b[39;49;00m == \u001b[33m'\u001b[39;49;00m\u001b[33m__main__\u001b[39;49;00m\u001b[33m'\u001b[39;49;00m:\n",
      "    \n",
      "    \u001b[37m# All of the model parameters and training parameters are sent as arguments\u001b[39;49;00m\n",
      "    \u001b[37m# when this script is executed, during a training job\u001b[39;49;00m\n",
      "    \n",
      "    \u001b[37m# Here we set up an argument parser to easily access the parameters\u001b[39;49;00m\n",
      "    parser = argparse.ArgumentParser()\n",
      "\n",
      "    \u001b[37m# SageMaker parameters, like the directories for training data and saving models; set automatically\u001b[39;49;00m\n",
      "    \u001b[37m# Do not need to change\u001b[39;49;00m\n",
      "    parser.add_argument(\u001b[33m'\u001b[39;49;00m\u001b[33m--output-data-dir\u001b[39;49;00m\u001b[33m'\u001b[39;49;00m, \u001b[36mtype\u001b[39;49;00m=\u001b[36mstr\u001b[39;49;00m, default=os.environ[\u001b[33m'\u001b[39;49;00m\u001b[33mSM_OUTPUT_DATA_DIR\u001b[39;49;00m\u001b[33m'\u001b[39;49;00m])\n",
      "    parser.add_argument(\u001b[33m'\u001b[39;49;00m\u001b[33m--model-dir\u001b[39;49;00m\u001b[33m'\u001b[39;49;00m, \u001b[36mtype\u001b[39;49;00m=\u001b[36mstr\u001b[39;49;00m, default=os.environ[\u001b[33m'\u001b[39;49;00m\u001b[33mSM_MODEL_DIR\u001b[39;49;00m\u001b[33m'\u001b[39;49;00m])\n",
      "    parser.add_argument(\u001b[33m'\u001b[39;49;00m\u001b[33m--data-dir\u001b[39;49;00m\u001b[33m'\u001b[39;49;00m, \u001b[36mtype\u001b[39;49;00m=\u001b[36mstr\u001b[39;49;00m, default=os.environ[\u001b[33m'\u001b[39;49;00m\u001b[33mSM_CHANNEL_TRAIN\u001b[39;49;00m\u001b[33m'\u001b[39;49;00m])\n",
      "    \n",
      "    \u001b[37m## TODO: Add any additional arguments that you will need to pass into your model\u001b[39;49;00m\n",
      "    \n",
      "    \u001b[37m# args holds all passed-in arguments\u001b[39;49;00m\n",
      "    args = parser.parse_args()\n",
      "\n",
      "    \u001b[37m# Read in csv training file\u001b[39;49;00m\n",
      "    training_dir = args.data_dir\n",
      "    train_data = pd.read_csv(os.path.join(training_dir, \u001b[33m\"\u001b[39;49;00m\u001b[33mtrain.csv\u001b[39;49;00m\u001b[33m\"\u001b[39;49;00m), header=\u001b[36mNone\u001b[39;49;00m, names=\u001b[36mNone\u001b[39;49;00m)\n",
      "\n",
      "    \u001b[37m# Labels are in the first column\u001b[39;49;00m\n",
      "    train_y = train_data.iloc[:,\u001b[34m0\u001b[39;49;00m]\n",
      "    train_x = train_data.iloc[:,\u001b[34m1\u001b[39;49;00m:]\n",
      "    \n",
      "    \n",
      "    \u001b[37m## --- Your code here --- ##\u001b[39;49;00m\n",
      "    \n",
      "\n",
      "    \u001b[37m## TODO: Define a model \u001b[39;49;00m\n",
      "    model = \u001b[36mNone\u001b[39;49;00m\n",
      "    \n",
      "    \n",
      "    \u001b[37m## TODO: Train the model\u001b[39;49;00m\n",
      "    \n",
      "    \n",
      "    \n",
      "    \u001b[37m## --- End of your code  --- ##\u001b[39;49;00m\n",
      "    \n",
      "\n",
      "    \u001b[37m# Save the trained model\u001b[39;49;00m\n",
      "    joblib.dump(model, os.path.join(args.model_dir, \u001b[33m\"\u001b[39;49;00m\u001b[33mmodel.joblib\u001b[39;49;00m\u001b[33m\"\u001b[39;49;00m))\n"
     ]
    }
   ],
   "source": [
    "# directory can be changed to: source_sklearn or source_pytorch\n",
    "!pygmentize source_sklearn/train.py"
   ]
  },
  {
   "cell_type": "markdown",
   "metadata": {},
   "source": [
    "### Provided code\n",
    "\n",
    "If you read the code above, you can see that the starter code includes a few things:\n",
    "* Model loading (`model_fn`) and saving code\n",
    "* Getting SageMaker's default hyperparameters\n",
    "* Loading the training data by name, `train.csv` and extracting the features and labels, `train_x`, and `train_y`\n",
    "\n",
    "If you'd like to read more about model saving with [joblib for sklearn](https://scikit-learn.org/stable/modules/model_persistence.html) or with [torch.save](https://pytorch.org/tutorials/beginner/saving_loading_models.html), click on the provided links."
   ]
  },
  {
   "cell_type": "markdown",
   "metadata": {},
   "source": [
    "---\n",
    "# Create an Estimator\n",
    "\n",
    "When a custom model is constructed in SageMaker, an entry point must be specified. This is the Python file which will be executed when the model is trained; the `train.py` function you specified above. To run a custom training script in SageMaker, construct an estimator, and fill in the appropriate constructor arguments:\n",
    "\n",
    "* **entry_point**: The path to the Python script SageMaker runs for training and prediction.\n",
    "* **source_dir**: The path to the training script directory `source_sklearn` OR `source_pytorch`.\n",
    "* **entry_point**: The path to the Python script SageMaker runs for training and prediction.\n",
    "* **source_dir**: The path to the training script directory `train_sklearn` OR `train_pytorch`.\n",
    "* **entry_point**: The path to the Python script SageMaker runs for training.\n",
    "* **source_dir**: The path to the training script directory `train_sklearn` OR `train_pytorch`.\n",
    "* **role**: Role ARN, which was specified, above.\n",
    "* **train_instance_count**: The number of training instances (should be left at 1).\n",
    "* **train_instance_type**: The type of SageMaker instance for training. Note: Because Scikit-learn does not natively support GPU training, Sagemaker Scikit-learn does not currently support training on GPU instance types.\n",
    "* **sagemaker_session**: The session used to train on Sagemaker.\n",
    "* **hyperparameters** (optional): A dictionary `{'name':value, ..}` passed to the train function as hyperparameters.\n",
    "\n",
    "Note: For a PyTorch model, there is another optional argument **framework_version**, which you can set to the latest version of PyTorch, `1.0`.\n",
    "\n",
    "## EXERCISE: Define a Scikit-learn or PyTorch estimator\n",
    "\n",
    "To import your desired estimator, use one of the following lines:\n",
    "```\n",
    "from sagemaker.sklearn.estimator import SKLearn\n",
    "```\n",
    "```\n",
    "from sagemaker.pytorch import PyTorch\n",
    "```"
   ]
  },
  {
   "cell_type": "markdown",
   "metadata": {},
   "source": [
    "## SOLUTION: PyTorch"
   ]
  },
  {
   "cell_type": "code",
   "execution_count": 84,
   "metadata": {
    "collapsed": true
   },
   "outputs": [],
   "source": [
    "# import a PyTorch wrapper\n",
    "from sagemaker.pytorch import PyTorch\n",
    "\n",
    "# specify an output path\n",
    "# prefix is specified above\n",
    "output_path = 's3://{}/{}'.format(bucket, prefix)\n",
    "\n",
    "# instantiate a pytorch estimator\n",
    "estimator = PyTorch(entry_point='train.py',\n",
    "                    source_dir='source_pytorch', # this should be just \"source\" for your code\n",
    "                    role=role,\n",
    "                    framework_version='1.0',\n",
    "                    train_instance_count=1,\n",
    "                    train_instance_type='ml.c4.xlarge',\n",
    "                    output_path=output_path,\n",
    "                    sagemaker_session=sagemaker_session,\n",
    "                    hyperparameters={\n",
    "                        'input_features': 3,  # num of features\n",
    "                        'hidden_dim': 40,\n",
    "                        'output_dim': 1,\n",
    "                        'epochs': 100 # could change to higher\n",
    "                    })"
   ]
  },
  {
   "cell_type": "code",
   "execution_count": 85,
   "metadata": {},
   "outputs": [],
   "source": [
    "# upload all data to S3\n",
    "input_data_train = input_data + '/train.csv'"
   ]
  },
  {
   "cell_type": "markdown",
   "metadata": {},
   "source": [
    "## EXERCISE: Train the estimator\n",
    "\n",
    "Train your estimator on the training data stored in S3. This should create a training job that you can monitor in your SageMaker console."
   ]
  },
  {
   "cell_type": "code",
   "execution_count": 86,
   "metadata": {},
   "outputs": [
    {
     "name": "stdout",
     "output_type": "stream",
     "text": [
      "2019-06-30 19:49:41 Starting - Starting the training job...\n",
      "2019-06-30 19:49:42 Starting - Launching requested ML instances......\n",
      "2019-06-30 19:50:48 Starting - Preparing the instances for training...\n",
      "2019-06-30 19:51:36 Downloading - Downloading input data...\n",
      "2019-06-30 19:52:12 Training - Training image download completed. Training in progress..\n",
      "\u001b[31mbash: cannot set terminal process group (-1): Inappropriate ioctl for device\u001b[0m\n",
      "\u001b[31mbash: no job control in this shell\u001b[0m\n",
      "\u001b[31m2019-06-30 19:52:14,660 sagemaker-containers INFO     Imported framework sagemaker_pytorch_container.training\u001b[0m\n",
      "\u001b[31m2019-06-30 19:52:14,662 sagemaker-containers INFO     No GPUs detected (normal if no gpus installed)\u001b[0m\n",
      "\u001b[31m2019-06-30 19:52:14,674 sagemaker_pytorch_container.training INFO     Block until all host DNS lookups succeed.\u001b[0m\n",
      "\u001b[31m2019-06-30 19:52:14,675 sagemaker_pytorch_container.training INFO     Invoking user training script.\u001b[0m\n",
      "\u001b[31m2019-06-30 19:52:14,931 sagemaker-containers INFO     Module train does not provide a setup.py. \u001b[0m\n",
      "\u001b[31mGenerating setup.py\u001b[0m\n",
      "\u001b[31m2019-06-30 19:52:14,931 sagemaker-containers INFO     Generating setup.cfg\u001b[0m\n",
      "\u001b[31m2019-06-30 19:52:14,932 sagemaker-containers INFO     Generating MANIFEST.in\u001b[0m\n",
      "\u001b[31m2019-06-30 19:52:14,932 sagemaker-containers INFO     Installing module with the following command:\u001b[0m\n",
      "\u001b[31m/usr/bin/python -m pip install -U . \u001b[0m\n",
      "\u001b[31mProcessing /opt/ml/code\u001b[0m\n",
      "\u001b[31mBuilding wheels for collected packages: train\n",
      "  Running setup.py bdist_wheel for train: started\u001b[0m\n",
      "\u001b[31m  Running setup.py bdist_wheel for train: finished with status 'done'\n",
      "  Stored in directory: /tmp/pip-ephem-wheel-cache-mrzv9wye/wheels/35/24/16/37574d11bf9bde50616c67372a334f94fa8356bc7164af8ca3\u001b[0m\n",
      "\u001b[31mSuccessfully built train\u001b[0m\n",
      "\u001b[31mInstalling collected packages: train\u001b[0m\n",
      "\u001b[31mSuccessfully installed train-1.0.0\u001b[0m\n",
      "\u001b[31mYou are using pip version 18.1, however version 19.1.1 is available.\u001b[0m\n",
      "\u001b[31mYou should consider upgrading via the 'pip install --upgrade pip' command.\u001b[0m\n",
      "\u001b[31m2019-06-30 19:52:17,020 sagemaker-containers INFO     No GPUs detected (normal if no gpus installed)\u001b[0m\n",
      "\u001b[31m2019-06-30 19:52:17,032 sagemaker-containers INFO     Invoking user script\n",
      "\u001b[0m\n",
      "\u001b[31mTraining Env:\n",
      "\u001b[0m\n",
      "\u001b[31m{\n",
      "    \"additional_framework_parameters\": {},\n",
      "    \"channel_input_dirs\": {\n",
      "        \"train\": \"/opt/ml/input/data/train\"\n",
      "    },\n",
      "    \"current_host\": \"algo-1\",\n",
      "    \"framework_module\": \"sagemaker_pytorch_container.training:main\",\n",
      "    \"hosts\": [\n",
      "        \"algo-1\"\n",
      "    ],\n",
      "    \"hyperparameters\": {\n",
      "        \"hidden_dim\": 40,\n",
      "        \"input_features\": 3,\n",
      "        \"epochs\": 100,\n",
      "        \"output_dim\": 1\n",
      "    },\n",
      "    \"input_config_dir\": \"/opt/ml/input/config\",\n",
      "    \"input_data_config\": {\n",
      "        \"train\": {\n",
      "            \"TrainingInputMode\": \"File\",\n",
      "            \"S3DistributionType\": \"FullyReplicated\",\n",
      "            \"RecordWrapperType\": \"None\"\n",
      "        }\n",
      "    },\n",
      "    \"input_dir\": \"/opt/ml/input\",\n",
      "    \"is_master\": true,\n",
      "    \"job_name\": \"sagemaker-pytorch-2019-06-30-19-49-41-422\",\n",
      "    \"log_level\": 20,\n",
      "    \"master_hostname\": \"algo-1\",\n",
      "    \"model_dir\": \"/opt/ml/model\",\n",
      "    \"module_dir\": \"s3://sagemaker-us-east-2-698530086280/sagemaker-pytorch-2019-06-30-19-49-41-422/source/sourcedir.tar.gz\",\n",
      "    \"module_name\": \"train\",\n",
      "    \"network_interface_name\": \"eth0\",\n",
      "    \"num_cpus\": 4,\n",
      "    \"num_gpus\": 0,\n",
      "    \"output_data_dir\": \"/opt/ml/output/data\",\n",
      "    \"output_dir\": \"/opt/ml/output\",\n",
      "    \"output_intermediate_dir\": \"/opt/ml/output/intermediate\",\n",
      "    \"resource_config\": {\n",
      "        \"current_host\": \"algo-1\",\n",
      "        \"hosts\": [\n",
      "            \"algo-1\"\n",
      "        ],\n",
      "        \"network_interface_name\": \"eth0\"\n",
      "    },\n",
      "    \"user_entry_point\": \"train.py\"\u001b[0m\n",
      "\u001b[31m}\n",
      "\u001b[0m\n",
      "\u001b[31mEnvironment variables:\n",
      "\u001b[0m\n",
      "\u001b[31mSM_HOSTS=[\"algo-1\"]\u001b[0m\n",
      "\u001b[31mSM_NETWORK_INTERFACE_NAME=eth0\u001b[0m\n",
      "\u001b[31mSM_HPS={\"epochs\":100,\"hidden_dim\":40,\"input_features\":3,\"output_dim\":1}\u001b[0m\n",
      "\u001b[31mSM_USER_ENTRY_POINT=train.py\u001b[0m\n",
      "\u001b[31mSM_FRAMEWORK_PARAMS={}\u001b[0m\n",
      "\u001b[31mSM_RESOURCE_CONFIG={\"current_host\":\"algo-1\",\"hosts\":[\"algo-1\"],\"network_interface_name\":\"eth0\"}\u001b[0m\n",
      "\u001b[31mSM_INPUT_DATA_CONFIG={\"train\":{\"RecordWrapperType\":\"None\",\"S3DistributionType\":\"FullyReplicated\",\"TrainingInputMode\":\"File\"}}\u001b[0m\n",
      "\u001b[31mSM_OUTPUT_DATA_DIR=/opt/ml/output/data\u001b[0m\n",
      "\u001b[31mSM_CHANNELS=[\"train\"]\u001b[0m\n",
      "\u001b[31mSM_CURRENT_HOST=algo-1\u001b[0m\n",
      "\u001b[31mSM_MODULE_NAME=train\u001b[0m\n",
      "\u001b[31mSM_LOG_LEVEL=20\u001b[0m\n",
      "\u001b[31mSM_FRAMEWORK_MODULE=sagemaker_pytorch_container.training:main\u001b[0m\n",
      "\u001b[31mSM_INPUT_DIR=/opt/ml/input\u001b[0m\n",
      "\u001b[31mSM_INPUT_CONFIG_DIR=/opt/ml/input/config\u001b[0m\n",
      "\u001b[31mSM_OUTPUT_DIR=/opt/ml/output\u001b[0m\n",
      "\u001b[31mSM_NUM_CPUS=4\u001b[0m\n",
      "\u001b[31mSM_NUM_GPUS=0\u001b[0m\n",
      "\u001b[31mSM_MODEL_DIR=/opt/ml/model\u001b[0m\n",
      "\u001b[31mSM_MODULE_DIR=s3://sagemaker-us-east-2-698530086280/sagemaker-pytorch-2019-06-30-19-49-41-422/source/sourcedir.tar.gz\u001b[0m\n",
      "\u001b[31mSM_TRAINING_ENV={\"additional_framework_parameters\":{},\"channel_input_dirs\":{\"train\":\"/opt/ml/input/data/train\"},\"current_host\":\"algo-1\",\"framework_module\":\"sagemaker_pytorch_container.training:main\",\"hosts\":[\"algo-1\"],\"hyperparameters\":{\"epochs\":100,\"hidden_dim\":40,\"input_features\":3,\"output_dim\":1},\"input_config_dir\":\"/opt/ml/input/config\",\"input_data_config\":{\"train\":{\"RecordWrapperType\":\"None\",\"S3DistributionType\":\"FullyReplicated\",\"TrainingInputMode\":\"File\"}},\"input_dir\":\"/opt/ml/input\",\"is_master\":true,\"job_name\":\"sagemaker-pytorch-2019-06-30-19-49-41-422\",\"log_level\":20,\"master_hostname\":\"algo-1\",\"model_dir\":\"/opt/ml/model\",\"module_dir\":\"s3://sagemaker-us-east-2-698530086280/sagemaker-pytorch-2019-06-30-19-49-41-422/source/sourcedir.tar.gz\",\"module_name\":\"train\",\"network_interface_name\":\"eth0\",\"num_cpus\":4,\"num_gpus\":0,\"output_data_dir\":\"/opt/ml/output/data\",\"output_dir\":\"/opt/ml/output\",\"output_intermediate_dir\":\"/opt/ml/output/intermediate\",\"resource_config\":{\"current_host\":\"algo-1\",\"hosts\":[\"algo-1\"],\"network_interface_name\":\"eth0\"},\"user_entry_point\":\"train.py\"}\u001b[0m\n",
      "\u001b[31mSM_USER_ARGS=[\"--epochs\",\"100\",\"--hidden_dim\",\"40\",\"--input_features\",\"3\",\"--output_dim\",\"1\"]\u001b[0m\n",
      "\u001b[31mSM_OUTPUT_INTERMEDIATE_DIR=/opt/ml/output/intermediate\u001b[0m\n",
      "\u001b[31mSM_CHANNEL_TRAIN=/opt/ml/input/data/train\u001b[0m\n",
      "\u001b[31mSM_HP_HIDDEN_DIM=40\u001b[0m\n",
      "\u001b[31mSM_HP_INPUT_FEATURES=3\u001b[0m\n",
      "\u001b[31mSM_HP_EPOCHS=100\u001b[0m\n",
      "\u001b[31mSM_HP_OUTPUT_DIM=1\u001b[0m\n",
      "\u001b[31mPYTHONPATH=/usr/local/bin:/usr/lib/python36.zip:/usr/lib/python3.6:/usr/lib/python3.6/lib-dynload:/usr/local/lib/python3.6/dist-packages:/usr/lib/python3/dist-packages\n",
      "\u001b[0m\n",
      "\u001b[31mInvoking script with the following command:\n",
      "\u001b[0m\n",
      "\u001b[31m/usr/bin/python -m train --epochs 100 --hidden_dim 40 --input_features 3 --output_dim 1\n",
      "\n",
      "\u001b[0m\n",
      "\u001b[31mUsing device cpu.\u001b[0m\n",
      "\u001b[31mGet train data loader.\u001b[0m\n",
      "\u001b[31mtrain_y:  tensor([[0.],\n",
      "        [1.],\n",
      "        [1.],\n",
      "        [0.],\n",
      "        [0.],\n",
      "        [0.],\n",
      "        [1.],\n",
      "        [0.],\n",
      "        [0.],\n",
      "        [1.],\n",
      "        [1.],\n",
      "        [1.],\n",
      "        [1.],\n",
      "        [0.],\n",
      "        [0.],\n",
      "        [1.],\n",
      "        [0.],\n",
      "        [1.],\n",
      "        [1.],\n",
      "        [1.],\n",
      "        [1.],\n",
      "        [0.],\n",
      "        [1.],\n",
      "        [1.],\n",
      "        [1.],\n",
      "        [1.],\n",
      "        [1.],\n",
      "        [1.],\n",
      "        [0.],\n",
      "        [1.],\n",
      "        [1.],\n",
      "        [1.],\n",
      "        [0.],\n",
      "        [0.],\n",
      "        [0.],\n",
      "        [1.],\n",
      "        [0.],\n",
      "        [0.],\n",
      "        [1.],\n",
      "        [1.],\n",
      "        [1.],\n",
      "        [1.],\n",
      "        [1.],\n",
      "        [0.],\n",
      "        [0.],\n",
      "        [0.],\n",
      "        [0.],\n",
      "        [0.],\n",
      "        [0.],\n",
      "        [1.],\n",
      "        [1.],\n",
      "        [1.],\n",
      "        [1.],\n",
      "        [0.],\n",
      "        [0.],\n",
      "        [1.],\n",
      "        [1.],\n",
      "        [0.],\n",
      "        [1.],\n",
      "        [1.],\n",
      "        [1.],\n",
      "        [0.],\n",
      "        [1.],\n",
      "        [1.],\n",
      "        [0.],\n",
      "        [1.],\n",
      "        [1.],\n",
      "        [1.],\n",
      "        [1.],\n",
      "        [0.]])\u001b[0m\n",
      "\u001b[31mtrain_x:  tensor([[0.3981, 0.0000, 0.1918],\n",
      "        [0.8694, 0.3194, 0.8465],\n",
      "        [0.5936, 0.0442, 0.3161],\n",
      "        [0.5445, 0.0000, 0.2426],\n",
      "        [0.3295, 0.0000, 0.1612],\n",
      "        [0.5903, 0.0000, 0.3017],\n",
      "        [0.7598, 0.1503, 0.4843],\n",
      "        [0.5161, 0.0000, 0.2708],\n",
      "        [0.4409, 0.0000, 0.2240],\n",
      "        [0.9795, 0.7000, 0.9000],\n",
      "        [0.9514, 0.3986, 0.8940],\n",
      "        [0.9765, 0.4329, 0.8232],\n",
      "        [0.8118, 0.1951, 0.4598],\n",
      "        [0.4412, 0.0000, 0.3056],\n",
      "        [0.4889, 0.0000, 0.2826],\n",
      "        [0.8140, 0.6250, 0.7889],\n",
      "        [0.6111, 0.0000, 0.3247],\n",
      "        [1.0000, 0.9419, 1.0000],\n",
      "        [0.6340, 0.0000, 0.3689],\n",
      "        [0.5829, 0.0293, 0.4167],\n",
      "        [0.6379, 0.2832, 0.4899],\n",
      "        [0.4204, 0.0000, 0.2188],\n",
      "        [0.6878, 0.0260, 0.5164],\n",
      "        [0.6766, 0.0745, 0.4725],\n",
      "        [0.7692, 0.4334, 0.6065],\n",
      "        [0.7123, 0.0388, 0.5367],\n",
      "        [0.6299, 0.2661, 0.3944],\n",
      "        [0.7157, 0.0000, 0.3431],\n",
      "        [0.3321, 0.0000, 0.1530],\n",
      "        [0.7172, 0.0420, 0.4559],\n",
      "        [0.8783, 0.3705, 0.8200],\n",
      "        [0.5298, 0.3041, 0.4500],\n",
      "        [0.5721, 0.0000, 0.2294],\n",
      "        [0.3197, 0.0000, 0.1654],\n",
      "        [0.5300, 0.0000, 0.2605],\n",
      "        [0.7800, 0.5825, 0.6699],\n",
      "        [0.6527, 0.0000, 0.3552],\n",
      "        [0.4439, 0.0000, 0.2338],\n",
      "        [0.6650, 0.1168, 0.3493],\n",
      "        [0.7282, 0.0050, 0.3476],\n",
      "        [0.7620, 0.2025, 0.5677],\n",
      "        [0.9470, 0.1586, 0.7744],\n",
      "        [0.3684, 0.0000, 0.1930],\n",
      "        [0.5329, 0.0000, 0.2182],\n",
      "        [0.6185, 0.0000, 0.2667],\n",
      "        [0.5103, 0.0000, 0.2211],\n",
      "        [0.5798, 0.0000, 0.2289],\n",
      "        [0.4070, 0.0000, 0.1722],\n",
      "        [0.5155, 0.0000, 0.2368],\n",
      "        [0.5845, 0.0149, 0.2949],\n",
      "        [0.6172, 0.1066, 0.5038],\n",
      "        [1.0000, 0.7600, 0.9118],\n",
      "        [0.9917, 0.8333, 0.9923],\n",
      "        [0.5506, 0.0000, 0.2833],\n",
      "        [0.4194, 0.0000, 0.2617],\n",
      "        [0.8352, 0.0000, 0.6471],\n",
      "        [0.9271, 0.1333, 0.8500],\n",
      "        [0.4929, 0.0000, 0.2350],\n",
      "        [0.7087, 0.2300, 0.6620],\n",
      "        [0.8634, 0.1695, 0.7911],\n",
      "        [0.9606, 0.8333, 0.9298],\n",
      "        [0.4380, 0.0000, 0.2231],\n",
      "        [0.7337, 0.0259, 0.4901],\n",
      "        [0.5139, 0.0000, 0.2520],\n",
      "        [0.4861, 0.0000, 0.2277],\n",
      "        [0.8452, 0.2532, 0.6437],\n",
      "        [0.4850, 0.0000, 0.2427],\n",
      "        [0.9507, 0.7419, 0.8395],\n",
      "        [0.5512, 0.2060, 0.2830],\n",
      "        [0.3613, 0.0000, 0.1618]])\u001b[0m\n",
      "\u001b[31mTraining set shape:  (70, 4)\u001b[0m\n",
      "\u001b[31mEpoch: 1, Loss: 0.6881886635507856\u001b[0m\n",
      "\u001b[31mEpoch: 2, Loss: 0.6879687820162091\u001b[0m\n",
      "\u001b[31mEpoch: 3, Loss: 0.6813948665346418\u001b[0m\n",
      "\u001b[31mEpoch: 4, Loss: 0.6817893215588161\u001b[0m\n",
      "\u001b[31mEpoch: 5, Loss: 0.6775618961879185\u001b[0m\n",
      "\u001b[31mEpoch: 6, Loss: 0.6732402273586818\u001b[0m\n",
      "\u001b[31mEpoch: 7, Loss: 0.6670391729899815\u001b[0m\n",
      "\u001b[31mEpoch: 8, Loss: 0.6641534907477242\u001b[0m\n",
      "\u001b[31mEpoch: 9, Loss: 0.6616500701223101\u001b[0m\n",
      "\u001b[31mEpoch: 10, Loss: 0.6561964154243469\u001b[0m\n",
      "\u001b[31mEpoch: 11, Loss: 0.6520304679870605\u001b[0m\n",
      "\u001b[31mEpoch: 12, Loss: 0.6434010863304138\u001b[0m\n",
      "\u001b[31mEpoch: 13, Loss: 0.6436716743877956\u001b[0m\n",
      "\u001b[31mEpoch: 14, Loss: 0.6407643045697894\u001b[0m\n",
      "\u001b[31mEpoch: 15, Loss: 0.6342808774539402\u001b[0m\n",
      "\u001b[31mEpoch: 16, Loss: 0.6355285474232265\u001b[0m\n",
      "\u001b[31mEpoch: 17, Loss: 0.6296524575778416\u001b[0m\n",
      "\u001b[31mEpoch: 18, Loss: 0.6256173849105835\u001b[0m\n",
      "\u001b[31mEpoch: 19, Loss: 0.6145914878164019\u001b[0m\n",
      "\u001b[31mEpoch: 20, Loss: 0.6186354245458331\u001b[0m\n",
      "\u001b[31mEpoch: 21, Loss: 0.6170892034258161\u001b[0m\n",
      "\u001b[31mEpoch: 22, Loss: 0.6111107128007072\u001b[0m\n",
      "\u001b[31mEpoch: 23, Loss: 0.6074437328747341\u001b[0m\n",
      "\u001b[31mEpoch: 24, Loss: 0.6027795246669224\u001b[0m\n",
      "\u001b[31mEpoch: 25, Loss: 0.5975572722298759\u001b[0m\n",
      "\u001b[31mEpoch: 26, Loss: 0.5956204022680011\u001b[0m\n",
      "\u001b[31mEpoch: 27, Loss: 0.5941036684172494\u001b[0m\n",
      "\u001b[31mEpoch: 28, Loss: 0.5831416930471148\u001b[0m\n",
      "\u001b[31mEpoch: 29, Loss: 0.5797467998095921\u001b[0m\n",
      "\u001b[31mEpoch: 30, Loss: 0.5719362710203443\u001b[0m\n",
      "\u001b[31mEpoch: 31, Loss: 0.5757066777774266\u001b[0m\n",
      "\u001b[31mEpoch: 32, Loss: 0.5655949584075383\u001b[0m\n",
      "\u001b[31mEpoch: 33, Loss: 0.5665803168501172\u001b[0m\n",
      "\u001b[31mEpoch: 34, Loss: 0.564947132553373\u001b[0m\n",
      "\u001b[31mEpoch: 35, Loss: 0.5607552783829826\u001b[0m\n",
      "\u001b[31mEpoch: 36, Loss: 0.5587683362620217\u001b[0m\n",
      "\u001b[31mEpoch: 37, Loss: 0.5679773603166852\u001b[0m\n",
      "\u001b[31mEpoch: 38, Loss: 0.5480856086526599\u001b[0m\n",
      "\u001b[31mEpoch: 39, Loss: 0.5479511959212167\u001b[0m\n",
      "\u001b[31mEpoch: 40, Loss: 0.5446422781263079\u001b[0m\n",
      "\u001b[31mEpoch: 41, Loss: 0.5489214658737183\u001b[0m\n",
      "\u001b[31mEpoch: 42, Loss: 0.5358676399503436\u001b[0m\n",
      "\u001b[31mEpoch: 43, Loss: 0.5310596057346889\u001b[0m\n",
      "\u001b[31mEpoch: 44, Loss: 0.5348656262670245\u001b[0m\n",
      "\u001b[31mEpoch: 45, Loss: 0.5215452143124172\u001b[0m\n",
      "\u001b[31mEpoch: 46, Loss: 0.5190390050411224\u001b[0m\n",
      "\u001b[31mEpoch: 47, Loss: 0.516890117100307\u001b[0m\n",
      "\u001b[31mEpoch: 48, Loss: 0.5108076419149127\u001b[0m\n",
      "\u001b[31mEpoch: 49, Loss: 0.5175870103495461\u001b[0m\n",
      "\u001b[31mEpoch: 50, Loss: 0.52369795526777\u001b[0m\n",
      "\u001b[31mEpoch: 51, Loss: 0.5004547791821616\u001b[0m\n",
      "\u001b[31mEpoch: 52, Loss: 0.5036217783178601\u001b[0m\n",
      "\u001b[31mEpoch: 53, Loss: 0.5077464750834874\u001b[0m\n",
      "\u001b[31mEpoch: 54, Loss: 0.5123449436255864\u001b[0m\n",
      "\u001b[31mEpoch: 55, Loss: 0.49554900186402456\u001b[0m\n",
      "\u001b[31mEpoch: 56, Loss: 0.4833696058818272\u001b[0m\n",
      "\u001b[31mEpoch: 57, Loss: 0.5010011579309191\u001b[0m\n",
      "\u001b[31mEpoch: 58, Loss: 0.49308460099356516\u001b[0m\n",
      "\u001b[31mEpoch: 59, Loss: 0.49047645926475525\u001b[0m\n",
      "\u001b[31mEpoch: 60, Loss: 0.4891685502869742\u001b[0m\n",
      "\u001b[31mEpoch: 61, Loss: 0.4860756482396807\u001b[0m\n",
      "\u001b[31mEpoch: 62, Loss: 0.4825450990881239\u001b[0m\n",
      "\u001b[31mEpoch: 63, Loss: 0.4772145279816219\u001b[0m\n",
      "\u001b[31mEpoch: 64, Loss: 0.4746278056076595\u001b[0m\n",
      "\u001b[31mEpoch: 65, Loss: 0.4762763891901289\u001b[0m\n",
      "\u001b[31mEpoch: 66, Loss: 0.4667395055294037\u001b[0m\n",
      "\u001b[31mEpoch: 67, Loss: 0.4829941519669124\u001b[0m\n",
      "\u001b[31mEpoch: 68, Loss: 0.4728161777768816\u001b[0m\n",
      "\u001b[31mEpoch: 69, Loss: 0.4759337178298405\u001b[0m\n",
      "\u001b[31mEpoch: 70, Loss: 0.4619142157690866\u001b[0m\n",
      "\u001b[31mEpoch: 71, Loss: 0.4654963569981711\u001b[0m\n",
      "\u001b[31mEpoch: 72, Loss: 0.4634691732270377\u001b[0m\n",
      "\u001b[31mEpoch: 73, Loss: 0.46448180079460144\u001b[0m\n",
      "\u001b[31mEpoch: 74, Loss: 0.45425849727221895\u001b[0m\n",
      "\u001b[31mEpoch: 75, Loss: 0.45408570766448975\u001b[0m\n",
      "\u001b[31mEpoch: 76, Loss: 0.4655260273388454\u001b[0m\n",
      "\u001b[31mEpoch: 77, Loss: 0.44574147037097384\u001b[0m\n",
      "\u001b[31mEpoch: 78, Loss: 0.45544756736074177\u001b[0m\n",
      "\u001b[31mEpoch: 79, Loss: 0.4538130249295916\u001b[0m\n",
      "\u001b[31mEpoch: 80, Loss: 0.44131181069782804\u001b[0m\n",
      "\u001b[31mEpoch: 81, Loss: 0.44352079715047565\u001b[0m\n",
      "\u001b[31mEpoch: 82, Loss: 0.4437559928212847\u001b[0m\n",
      "\u001b[31mEpoch: 83, Loss: 0.42662655455725534\u001b[0m\n",
      "\u001b[31mEpoch: 84, Loss: 0.42815613746643066\u001b[0m\n",
      "\u001b[31mEpoch: 85, Loss: 0.4246727781636374\u001b[0m\n",
      "\u001b[31mEpoch: 86, Loss: 0.44865183319364277\u001b[0m\n",
      "\u001b[31mEpoch: 87, Loss: 0.43360183920179096\u001b[0m\n",
      "\u001b[31mEpoch: 88, Loss: 0.427246344941003\u001b[0m\n",
      "\u001b[31mEpoch: 89, Loss: 0.42225884539740427\u001b[0m\n",
      "\u001b[31mEpoch: 90, Loss: 0.42218077182769775\u001b[0m\n",
      "\u001b[31mEpoch: 91, Loss: 0.4121596600328173\u001b[0m\n",
      "\u001b[31mEpoch: 92, Loss: 0.4190566497189658\u001b[0m\n",
      "\u001b[31mEpoch: 93, Loss: 0.4243308092866625\u001b[0m\n",
      "\u001b[31mEpoch: 94, Loss: 0.40922990441322327\u001b[0m\n",
      "\u001b[31mEpoch: 95, Loss: 0.42385285667010714\u001b[0m\n",
      "\u001b[31mEpoch: 96, Loss: 0.4224527818816049\u001b[0m\n",
      "\u001b[31mEpoch: 97, Loss: 0.42057869689805166\u001b[0m\n",
      "\u001b[31mEpoch: 98, Loss: 0.40093267389706205\u001b[0m\n",
      "\u001b[31mEpoch: 99, Loss: 0.39636161497661043\u001b[0m\n",
      "\u001b[31mEpoch: 100, Loss: 0.40312506897108896\u001b[0m\n",
      "\u001b[31m2019-06-30 19:52:19,037 sagemaker-containers INFO     Reporting training SUCCESS\u001b[0m\n",
      "\n",
      "2019-06-30 19:52:29 Uploading - Uploading generated training model\n",
      "2019-06-30 19:52:29 Completed - Training job completed\n",
      "Billable seconds: 53\n",
      "CPU times: user 403 ms, sys: 21.5 ms, total: 424 ms\n",
      "Wall time: 3min 13s\n"
     ]
    }
   ],
   "source": [
    "%%time \n",
    "# train the estimator on S3 training data\n",
    "estimator.fit({'train': input_data_train})"
   ]
  },
  {
   "cell_type": "markdown",
   "metadata": {},
   "source": [
    "## EXERCISE: Deploy the trained model\n",
    "\n",
    "After training, deploy your model to create a `predictor`. If you're using a PyTorch model, you'll need to create a trained `PyTorchModel` that accepts the trained `<model>.model_data` as an input parameter and points to the provided `source_pytorch/predict.py` file as an entry point. \n",
    "\n",
    "To deploy a trained model, you'll use `<model>.deploy`, which takes in two arguments:\n",
    "* **initial_instance_count**: The number of deployed instances (1).\n",
    "* **instance_type**: The type of SageMaker instance for deployment.\n",
    "\n",
    "Note: If you run into an instance error, it may be because you chose the wrong training or deployment instance_type. It may help to refer to your previous exercise code to see which types of instances we used."
   ]
  },
  {
   "cell_type": "code",
   "execution_count": 87,
   "metadata": {},
   "outputs": [
    {
     "name": "stdout",
     "output_type": "stream",
     "text": [
      "---------------------------------------------------------------------------------------------------------------!CPU times: user 552 ms, sys: 36.1 ms, total: 588 ms\n",
      "Wall time: 9min 20s\n"
     ]
    }
   ],
   "source": [
    "%%time \n",
    "# deploy and create a predictor\n",
    "torch_predictor = estimator.deploy(initial_instance_count=1, instance_type='ml.t2.medium')"
   ]
  },
  {
   "cell_type": "markdown",
   "metadata": {},
   "source": [
    "---\n",
    "# Evaluating Your Model\n",
    "\n",
    "Once your model is deployed, you can see how it performs when applied to our test data.\n",
    "\n",
    "The provided cell below, reads in the test data, assuming it is stored locally in `data_dir` and named `test.csv`. The labels and features are extracted from the `.csv` file."
   ]
  },
  {
   "cell_type": "code",
   "execution_count": 95,
   "metadata": {
    "collapsed": true
   },
   "outputs": [],
   "source": [
    "\"\"\"\n",
    "DON'T MODIFY ANYTHING IN THIS CELL THAT IS BELOW THIS LINE\n",
    "\"\"\"\n",
    "import os\n",
    "\n",
    "# read in test data, assuming it is stored locally\n",
    "test_data = pd.read_csv(os.path.join(data_dir, \"test.csv\"), header=None, names=None)\n",
    "\n",
    "# labels are in the first column\n",
    "test_y = test_data.iloc[:,0]\n",
    "test_x = test_data.iloc[:,1:]"
   ]
  },
  {
   "cell_type": "code",
   "execution_count": 96,
   "metadata": {},
   "outputs": [
    {
     "name": "stdout",
     "output_type": "stream",
     "text": [
      "          1         2         3\n",
      "0  1.000000  0.879581  0.820755\n",
      "1  0.765306  0.520833  0.621711\n",
      "2  0.884444  0.118721  0.597458\n",
      "3  0.619048  0.010929  0.427835\n",
      "4  0.920000  0.275362  0.775000 \n",
      "\n",
      "0    1\n",
      "1    1\n",
      "2    1\n",
      "3    1\n",
      "4    1\n",
      "Name: 0, dtype: int64\n"
     ]
    }
   ],
   "source": [
    "print(test_x[:5], '\\n')\n",
    "print(test_y[:5])"
   ]
  },
  {
   "cell_type": "markdown",
   "metadata": {},
   "source": [
    "## EXERCISE: Determine the accuracy of your model\n",
    "\n",
    "Use your deployed `predictor` to generate predicted, class labels for the test data. Compare those to the *true* labels, `test_y`, and calculate the accuracy as a value between 0 and 1.0 that indicates the fraction of test data that your model classified correctly. You may use [sklearn.metrics](https://scikit-learn.org/stable/modules/classes.html#module-sklearn.metrics) for this calculation.\n",
    "\n",
    "**To pass this project, your model should get at least 90% test accuracy.**"
   ]
  },
  {
   "cell_type": "code",
   "execution_count": 97,
   "metadata": {},
   "outputs": [
    {
     "name": "stderr",
     "output_type": "stream",
     "text": [
      "/home/ec2-user/anaconda3/envs/pytorch_p36/lib/python3.6/site-packages/ipykernel/__main__.py:3: FutureWarning: Method .as_matrix will be removed in a future version. Use .values instead.\n",
      "  app.launch_new_instance()\n"
     ]
    }
   ],
   "source": [
    "local_data_test = 'plagiarism_data/test.csv'\n",
    "test_df = pd.read_csv(local_data_test, header = None)\n",
    "test_matrix = test_df.as_matrix()\n",
    "test_features  = test_matrix[:, 1:]\n",
    "test_labels = test_matrix[:, 0]"
   ]
  },
  {
   "cell_type": "code",
   "execution_count": 98,
   "metadata": {},
   "outputs": [
    {
     "data": {
      "text/plain": [
       "numpy.float64"
      ]
     },
     "execution_count": 98,
     "metadata": {},
     "output_type": "execute_result"
    }
   ],
   "source": [
    "type(test_features[0][0])"
   ]
  },
  {
   "cell_type": "code",
   "execution_count": 99,
   "metadata": {},
   "outputs": [
    {
     "name": "stdout",
     "output_type": "stream",
     "text": [
      "[0.7395594]\n"
     ]
    }
   ],
   "source": [
    "# test one prediction\n",
    "# upload all data to S3\n",
    "#input_data_train = input_data + '/test.csv'\n",
    "#test_x_np = input_data_train.astype('float32')\n",
    "\n",
    "result = torch_predictor.predict(test_features[0].astype('float32'))\n",
    "print(result)"
   ]
  },
  {
   "cell_type": "code",
   "execution_count": 100,
   "metadata": {
    "collapsed": true
   },
   "outputs": [
    {
     "name": "stdout",
     "output_type": "stream",
     "text": [
      "Test passed!\n"
     ]
    }
   ],
   "source": [
    "# First: generate predicted, class labels\n",
    "test_y_preds = torch_predictor.predict(test_features.astype('float32'))\n",
    "\n",
    "\"\"\"\n",
    "DON'T MODIFY ANYTHING IN THIS CELL THAT IS BELOW THIS LINE\n",
    "\"\"\"\n",
    "# test that your model generates the correct number of labels\n",
    "assert len(test_y_preds)==len(test_y), 'Unexpected number of predictions.'\n",
    "print('Test passed!')"
   ]
  },
  {
   "cell_type": "code",
   "execution_count": 102,
   "metadata": {
    "collapsed": true
   },
   "outputs": [
    {
     "name": "stdout",
     "output_type": "stream",
     "text": [
      "The Model Accuracy is:: 0.96\n",
      "\n",
      "Predicted class labels: \n",
      "[1. 1. 1. 1. 1. 1. 0. 0. 0. 0. 0. 0. 0. 1. 1. 1. 1. 1. 0. 1. 0. 1. 1. 0.\n",
      " 0.]\n",
      "\n",
      "True class labels: \n",
      "[1 1 1 1 1 1 0 0 0 0 0 0 1 1 1 1 1 1 0 1 0 1 1 0 0]\n"
     ]
    }
   ],
   "source": [
    "# Second: calculate the test accuracy\n",
    "import numpy as np\n",
    "from sklearn.metrics import accuracy_score\n",
    "y_hat = test_y.astype('float32').squeeze()\n",
    "test_y_preds = test_y_preds.squeeze().round()\n",
    "#print(y_hat)\n",
    "#print(test_y_preds.squeeze())\n",
    "\n",
    "accuracy = accuracy_score(y_hat, test_y_preds.round())\n",
    "\n",
    "## print out the model accuracy\n",
    "print('The Model Accuracy is::', accuracy)\n",
    "\n",
    "## print out the array of predicted and true labels, if you want\n",
    "print('\\nPredicted class labels: ')\n",
    "print(test_y_preds)\n",
    "print('\\nTrue class labels: ')\n",
    "print(test_y.values)"
   ]
  },
  {
   "cell_type": "code",
   "execution_count": 106,
   "metadata": {},
   "outputs": [],
   "source": [
    "# calculate true positives, false positives, true negatives, false negatives\n",
    "test_labels = test_y\n",
    "test_preds = test_y_preds\n",
    "\n",
    "tp = np.logical_and(test_labels, test_preds).sum()\n",
    "fp = np.logical_and(1-test_labels, test_preds).sum()\n",
    "tn = np.logical_and(1-test_labels, 1-test_preds).sum()\n",
    "fn = np.logical_and(test_labels, 1-test_preds).sum()\n",
    "\n",
    "\n",
    "# calculate binary classification metrics\n",
    "recall = tp / (tp + fn)\n",
    "precision = tp / (tp + fp)\n",
    "accuracy = (tp + tn) / (tp + fp + tn + fn)"
   ]
  },
  {
   "cell_type": "code",
   "execution_count": 108,
   "metadata": {},
   "outputs": [
    {
     "name": "stdout",
     "output_type": "stream",
     "text": [
      "False Positives: 0\n",
      "False Negatives: 1\n",
      "Recall: 0.9333333333333333\n",
      "Accuracy: 0.96\n",
      "Precision: 1.0\n"
     ]
    }
   ],
   "source": [
    "print('False Positives:', fp)\n",
    "print('False Negatives:', fn)\n",
    "print('Recall:', recall)\n",
    "print('Accuracy:', accuracy)\n",
    "print('Precision:', precision)"
   ]
  },
  {
   "cell_type": "markdown",
   "metadata": {},
   "source": [
    "### Question 1: How many false positives and false negatives did your model produce, if any? And why do you think this is?"
   ]
  },
  {
   "cell_type": "markdown",
   "metadata": {},
   "source": [
    "**Answer**: \n",
    "The model only produced 0 False Positives and 1 False Negatives the main reason to have almost no miss classification is due to the high presicion and recall of the model trained, this can be trace back to the value of the features selected to train the model.\n"
   ]
  },
  {
   "cell_type": "markdown",
   "metadata": {},
   "source": [
    "### Question 2: How did you decide on the type of model to use? "
   ]
  },
  {
   "cell_type": "markdown",
   "metadata": {},
   "source": [
    "**Answer**:\n",
    "\n",
    "The type of model that I decided to use was mostly in regards to the complexity of implementation (how much I could learn by building it), I tried a linear classifier first but didn't convinced me and then a Pythorch Classifier using Neuronal Networks\n",
    "I also optimized the model hyperparameters in order to reach this level of accuracy 96% by testing different network sizes and dropour percentages."
   ]
  },
  {
   "cell_type": "markdown",
   "metadata": {},
   "source": [
    "----\n",
    "## EXERCISE: Clean up Resources\n",
    "\n",
    "After you're done evaluating your model, **delete your model endpoint**. You can do this with a call to `.delete_endpoint()`. You need to show, in this notebook, that the endpoint was deleted. Any other resources, you may delete from the AWS console, and you will find more instructions on cleaning up all your resources, below."
   ]
  },
  {
   "cell_type": "code",
   "execution_count": 160,
   "metadata": {
    "collapsed": true
   },
   "outputs": [],
   "source": [
    "# uncomment and fill in the line below!\n",
    "# <name_of_deployed_predictor>.delete_endpoint()\n"
   ]
  },
  {
   "cell_type": "markdown",
   "metadata": {},
   "source": [
    "### Deleting S3 bucket\n",
    "\n",
    "When you are *completely* done with training and testing models, you can also delete your entire S3 bucket. If you do this before you are done training your model, you'll have to recreate your S3 bucket and upload your training data again."
   ]
  },
  {
   "cell_type": "code",
   "execution_count": 161,
   "metadata": {
    "collapsed": true
   },
   "outputs": [],
   "source": [
    "# deleting bucket, uncomment lines below\n",
    "\n",
    "# bucket_to_delete = boto3.resource('s3').Bucket(bucket)\n",
    "# bucket_to_delete.objects.all().delete()"
   ]
  },
  {
   "cell_type": "markdown",
   "metadata": {},
   "source": [
    "### Deleting all your models and instances\n",
    "\n",
    "When you are _completely_ done with this project and do **not** ever want to revisit this notebook, you can choose to delete all of your SageMaker notebook instances and models by following [these instructions](https://docs.aws.amazon.com/sagemaker/latest/dg/ex1-cleanup.html). Before you delete this notebook instance, I recommend at least downloading a copy and saving it, locally."
   ]
  },
  {
   "cell_type": "markdown",
   "metadata": {},
   "source": [
    "---\n",
    "## Further Directions\n",
    "\n",
    "There are many ways to improve or add on to this project to expand your learning or make this more of a unique project for you. A few ideas are listed below:\n",
    "* Train a classifier to predict the *category* (1-3) of plagiarism and not just plagiarized (1) or not (0).\n",
    "* Utilize a different and larger dataset to see if this model can be extended to other types of plagiarism.\n",
    "* Use language or character-level analysis to find different (and more) similarity features.\n",
    "* Write a complete pipeline function that accepts a source text and submitted text file, and classifies the submitted text as plagiarized or not.\n",
    "* Use API Gateway and a lambda function to deploy your model to a web application.\n",
    "\n",
    "These are all just options for extending your work. If you've completed all the exercises in this notebook, you've completed a real-world application, and can proceed to submit your project. Great job!"
   ]
  },
  {
   "cell_type": "code",
   "execution_count": null,
   "metadata": {},
   "outputs": [],
   "source": []
  }
 ],
 "metadata": {
  "kernelspec": {
   "display_name": "conda_pytorch_p36",
   "language": "python",
   "name": "conda_pytorch_p36"
  },
  "language_info": {
   "codemirror_mode": {
    "name": "ipython",
    "version": 3
   },
   "file_extension": ".py",
   "mimetype": "text/x-python",
   "name": "python",
   "nbconvert_exporter": "python",
   "pygments_lexer": "ipython3",
   "version": "3.6.5"
  }
 },
 "nbformat": 4,
 "nbformat_minor": 2
}
